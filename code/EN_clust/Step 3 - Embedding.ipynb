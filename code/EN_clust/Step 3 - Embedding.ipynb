{
 "cells": [
  {
   "cell_type": "markdown",
   "id": "17ff94cf-1fea-4dbc-ade2-41b8bc2b3933",
   "metadata": {},
   "source": [
    "This notebook was initially meant to take in the arxiv data and perform\n",
    "  - vectorization\n",
    "  - information weight transform\n",
    "  - UMAP\n",
    "    \n",
    "  and save the output to .npy format for easy import to other notebooks.\n",
    "\n",
    "**Update:** We probably want to use a standard encoder, such as mpnet. \n",
    "\n",
    "Basic usage in next cell."
   ]
  },
  {
   "cell_type": "code",
   "execution_count": 1,
   "id": "0491a126-0864-4f06-aa08-4451f0dca598",
   "metadata": {},
   "outputs": [],
   "source": [
    "#pip install --upgrade pip"
   ]
  },
  {
   "cell_type": "code",
   "execution_count": 1,
   "id": "96ba6d7b-cf61-465d-b909-122c8ba5de9e",
   "metadata": {},
   "outputs": [],
   "source": [
    "#pip install numpy==1.26.4 # compatible version with sentence transformers"
   ]
  },
  {
   "cell_type": "code",
   "execution_count": 3,
   "id": "a07fcbff-d923-46d3-8d9c-2af221e87ccd",
   "metadata": {},
   "outputs": [],
   "source": [
    "#pip install -U sentence-transformers"
   ]
  },
  {
   "cell_type": "code",
   "execution_count": null,
   "id": "1d218d80-14e0-40a2-94b4-87bb9a96b507",
   "metadata": {},
   "outputs": [],
   "source": [
    "#pip install -U ipywidgets"
   ]
  },
  {
   "cell_type": "code",
   "execution_count": 1,
   "id": "005b35c8-95ed-4504-a571-9e6afb17f73a",
   "metadata": {},
   "outputs": [],
   "source": [
    "from sentence_transformers import SentenceTransformer"
   ]
  },
  {
   "cell_type": "code",
   "execution_count": 2,
   "id": "bc54c939-7f21-44b6-9a91-4cec12767e5f",
   "metadata": {},
   "outputs": [
    {
     "name": "stdout",
     "output_type": "stream",
     "text": [
      "[[ 0.02250258 -0.07829178 -0.02303074 ... -0.00827928  0.02652695\n",
      "  -0.00201898]\n",
      " [ 0.04170238  0.00109739 -0.01553418 ... -0.02181627 -0.06359355\n",
      "  -0.00875283]]\n"
     ]
    }
   ],
   "source": [
    "# Then you can use the model like this:\n",
    "sentences = [\"This is an example sentence\", \"Each sentence is converted\"]\n",
    "model = SentenceTransformer('sentence-transformers/all-mpnet-base-v2')\n",
    "embeddings = model.encode(sentences)\n",
    "print(embeddings)"
   ]
  },
  {
   "cell_type": "code",
   "execution_count": null,
   "id": "90d45703-ea65-46af-b99e-11e156a3e0cf",
   "metadata": {},
   "outputs": [],
   "source": [
    "embeddings.shape"
   ]
  },
  {
   "cell_type": "code",
   "execution_count": 3,
   "id": "6b7f5be9-8754-4533-a055-808090f5ca74",
   "metadata": {},
   "outputs": [
    {
     "name": "stdout",
     "output_type": "stream",
     "text": [
      "[[ 0.0262497   0.01339561 -0.00453316 ...  0.03553402 -0.03079692\n",
      "  -0.01055144]\n",
      " [-0.00859254  0.03205366 -0.01656716 ...  0.06571209  0.01012373\n",
      "  -0.02159733]]\n"
     ]
    }
   ],
   "source": [
    "# Sample useage\n",
    "sentences = [\"hello world\", \"goodbye dog\"]\n",
    "embeddings = model.encode(sentences)\n",
    "print(embeddings)"
   ]
  },
  {
   "cell_type": "markdown",
   "id": "f05b2570-d128-47a4-9648-8ff00b4f1168",
   "metadata": {},
   "source": [
    "### Read in ArXiv data and convert abstract into embeddings"
   ]
  },
  {
   "cell_type": "code",
   "execution_count": 3,
   "id": "34e2a60c-6e4c-4d23-9de3-c7d5dd19fabc",
   "metadata": {},
   "outputs": [],
   "source": [
    "import pandas as pd\n",
    "import matplotlib.pyplot as plt\n",
    "from collections import Counter\n",
    "from unidecode import unidecode\n",
    "import ast"
   ]
  },
  {
   "cell_type": "code",
   "execution_count": 4,
   "id": "301911e5-2769-47c8-beb5-7cbb2c7ede07",
   "metadata": {},
   "outputs": [],
   "source": [
    "df = pd.read_csv(\"arXivScrape_filtered.csv\")"
   ]
  },
  {
   "cell_type": "code",
   "execution_count": 5,
   "id": "1e55346a-5f50-46bb-bc29-ee14cf9f7910",
   "metadata": {},
   "outputs": [
    {
     "data": {
      "text/plain": [
       "(9308, 9)"
      ]
     },
     "execution_count": 5,
     "metadata": {},
     "output_type": "execute_result"
    }
   ],
   "source": [
    "df.shape"
   ]
  },
  {
   "cell_type": "code",
   "execution_count": 6,
   "id": "f72310be-77d4-4db9-b31f-4cdbdbb829ac",
   "metadata": {},
   "outputs": [
    {
     "data": {
      "text/html": [
       "<div>\n",
       "<style scoped>\n",
       "    .dataframe tbody tr th:only-of-type {\n",
       "        vertical-align: middle;\n",
       "    }\n",
       "\n",
       "    .dataframe tbody tr th {\n",
       "        vertical-align: top;\n",
       "    }\n",
       "\n",
       "    .dataframe thead th {\n",
       "        text-align: right;\n",
       "    }\n",
       "</style>\n",
       "<table border=\"1\" class=\"dataframe\">\n",
       "  <thead>\n",
       "    <tr style=\"text-align: right;\">\n",
       "      <th></th>\n",
       "      <th>id</th>\n",
       "      <th>title</th>\n",
       "      <th>categories</th>\n",
       "      <th>abstract</th>\n",
       "      <th>doi</th>\n",
       "      <th>created</th>\n",
       "      <th>updated</th>\n",
       "      <th>authors</th>\n",
       "      <th>authorsRL</th>\n",
       "    </tr>\n",
       "  </thead>\n",
       "  <tbody>\n",
       "    <tr>\n",
       "      <th>0</th>\n",
       "      <td>1909.07458</td>\n",
       "      <td>higher dimensional cardinal characteristics fo...</td>\n",
       "      <td>math.lo</td>\n",
       "      <td>much recent work in cardinal characteristics h...</td>\n",
       "      <td>NaN</td>\n",
       "      <td>2019-09-16</td>\n",
       "      <td>2021-08-31</td>\n",
       "      <td>['corey bacal switzer']</td>\n",
       "      <td>['corey bacal switzer']</td>\n",
       "    </tr>\n",
       "    <tr>\n",
       "      <th>1</th>\n",
       "      <td>2109.00569</td>\n",
       "      <td>interpretable fields in various valued fields</td>\n",
       "      <td>math.lo math.ac</td>\n",
       "      <td>let $\\mathcal{k}=(k,v,\\ldots)$ be a dp-minimal...</td>\n",
       "      <td>NaN</td>\n",
       "      <td>2021-09-01</td>\n",
       "      <td>NaN</td>\n",
       "      <td>['yatir halevi', 'assaf hasson', \"ya'acov pete...</td>\n",
       "      <td>['yatir halevi', \"ya'acov peterzil\"]</td>\n",
       "    </tr>\n",
       "    <tr>\n",
       "      <th>2</th>\n",
       "      <td>2109.00736</td>\n",
       "      <td>tukey-order with models on pawlikowski's theorems</td>\n",
       "      <td>math.lo</td>\n",
       "      <td>in j. symbolic logic,51(4): 957-968, 1986, paw...</td>\n",
       "      <td>NaN</td>\n",
       "      <td>2021-09-02</td>\n",
       "      <td>NaN</td>\n",
       "      <td>['miguel a. cardona']</td>\n",
       "      <td>['miguel a. cardona']</td>\n",
       "    </tr>\n",
       "    <tr>\n",
       "      <th>3</th>\n",
       "      <td>2109.02548</td>\n",
       "      <td>finitely axiomatized theories lack self-compre...</td>\n",
       "      <td>math.lo</td>\n",
       "      <td>in this paper we prove that no consistent fini...</td>\n",
       "      <td>NaN</td>\n",
       "      <td>2021-09-06</td>\n",
       "      <td>NaN</td>\n",
       "      <td>['fedor pakhomov', 'albert visser']</td>\n",
       "      <td>['fedor pakhomov', 'albert visser']</td>\n",
       "    </tr>\n",
       "    <tr>\n",
       "      <th>4</th>\n",
       "      <td>2107.14329</td>\n",
       "      <td>on pp elimination and stability in a continuou...</td>\n",
       "      <td>math.lo</td>\n",
       "      <td>we generalize pp elimination for modules, or m...</td>\n",
       "      <td>NaN</td>\n",
       "      <td>2021-07-29</td>\n",
       "      <td>2021-09-08</td>\n",
       "      <td>['nicolas chavarria gomez', 'anand pillay']</td>\n",
       "      <td>['anand pillay']</td>\n",
       "    </tr>\n",
       "    <tr>\n",
       "      <th>5</th>\n",
       "      <td>2109.03911</td>\n",
       "      <td>model theory and groups</td>\n",
       "      <td>math.lo</td>\n",
       "      <td>this is a largely expository paper about how g...</td>\n",
       "      <td>NaN</td>\n",
       "      <td>2021-09-08</td>\n",
       "      <td>NaN</td>\n",
       "      <td>['anand pillay']</td>\n",
       "      <td>['anand pillay']</td>\n",
       "    </tr>\n",
       "    <tr>\n",
       "      <th>6</th>\n",
       "      <td>1811.12827</td>\n",
       "      <td>effectively constructible fixed points in sacc...</td>\n",
       "      <td>math.lo</td>\n",
       "      <td>we give a purely syntactical proof of the fixe...</td>\n",
       "      <td>NaN</td>\n",
       "      <td>2018-11-30</td>\n",
       "      <td>2021-09-13</td>\n",
       "      <td>['taishi kurahashi', 'yuya okawa']</td>\n",
       "      <td>['taishi kurahashi']</td>\n",
       "    </tr>\n",
       "    <tr>\n",
       "      <th>7</th>\n",
       "      <td>2010.02034</td>\n",
       "      <td>fraisse classes with simply characterized big ...</td>\n",
       "      <td>math.co math.lo</td>\n",
       "      <td>we formulate a property strengthening the disj...</td>\n",
       "      <td>NaN</td>\n",
       "      <td>2020-10-05</td>\n",
       "      <td>2021-09-12</td>\n",
       "      <td>['rebecca coulson', 'natasha dobrinen', 'rehan...</td>\n",
       "      <td>['natasha dobrinen']</td>\n",
       "    </tr>\n",
       "    <tr>\n",
       "      <th>8</th>\n",
       "      <td>2102.02483</td>\n",
       "      <td>topological semantics of conservativity and in...</td>\n",
       "      <td>math.lo</td>\n",
       "      <td>we introduce and develop a topological semanti...</td>\n",
       "      <td>10.1093/logcom/exab046</td>\n",
       "      <td>2021-02-04</td>\n",
       "      <td>2021-09-13</td>\n",
       "      <td>['sohei iwata', 'taishi kurahashi']</td>\n",
       "      <td>['taishi kurahashi']</td>\n",
       "    </tr>\n",
       "    <tr>\n",
       "      <th>9</th>\n",
       "      <td>2109.06040</td>\n",
       "      <td>taming the `elsewhere': on expressivity of top...</td>\n",
       "      <td>math.lo</td>\n",
       "      <td>in topological modal logic, it is well known t...</td>\n",
       "      <td>NaN</td>\n",
       "      <td>2021-09-13</td>\n",
       "      <td>NaN</td>\n",
       "      <td>['david fernandez-duque']</td>\n",
       "      <td>['david fernandez-duque']</td>\n",
       "    </tr>\n",
       "  </tbody>\n",
       "</table>\n",
       "</div>"
      ],
      "text/plain": [
       "           id                                              title  \\\n",
       "0  1909.07458  higher dimensional cardinal characteristics fo...   \n",
       "1  2109.00569      interpretable fields in various valued fields   \n",
       "2  2109.00736  tukey-order with models on pawlikowski's theorems   \n",
       "3  2109.02548  finitely axiomatized theories lack self-compre...   \n",
       "4  2107.14329  on pp elimination and stability in a continuou...   \n",
       "5  2109.03911                            model theory and groups   \n",
       "6  1811.12827  effectively constructible fixed points in sacc...   \n",
       "7  2010.02034  fraisse classes with simply characterized big ...   \n",
       "8  2102.02483  topological semantics of conservativity and in...   \n",
       "9  2109.06040  taming the `elsewhere': on expressivity of top...   \n",
       "\n",
       "        categories                                           abstract  \\\n",
       "0          math.lo  much recent work in cardinal characteristics h...   \n",
       "1  math.lo math.ac  let $\\mathcal{k}=(k,v,\\ldots)$ be a dp-minimal...   \n",
       "2          math.lo  in j. symbolic logic,51(4): 957-968, 1986, paw...   \n",
       "3          math.lo  in this paper we prove that no consistent fini...   \n",
       "4          math.lo  we generalize pp elimination for modules, or m...   \n",
       "5          math.lo  this is a largely expository paper about how g...   \n",
       "6          math.lo  we give a purely syntactical proof of the fixe...   \n",
       "7  math.co math.lo  we formulate a property strengthening the disj...   \n",
       "8          math.lo  we introduce and develop a topological semanti...   \n",
       "9          math.lo  in topological modal logic, it is well known t...   \n",
       "\n",
       "                      doi     created     updated  \\\n",
       "0                     NaN  2019-09-16  2021-08-31   \n",
       "1                     NaN  2021-09-01         NaN   \n",
       "2                     NaN  2021-09-02         NaN   \n",
       "3                     NaN  2021-09-06         NaN   \n",
       "4                     NaN  2021-07-29  2021-09-08   \n",
       "5                     NaN  2021-09-08         NaN   \n",
       "6                     NaN  2018-11-30  2021-09-13   \n",
       "7                     NaN  2020-10-05  2021-09-12   \n",
       "8  10.1093/logcom/exab046  2021-02-04  2021-09-13   \n",
       "9                     NaN  2021-09-13         NaN   \n",
       "\n",
       "                                             authors  \\\n",
       "0                            ['corey bacal switzer']   \n",
       "1  ['yatir halevi', 'assaf hasson', \"ya'acov pete...   \n",
       "2                              ['miguel a. cardona']   \n",
       "3                ['fedor pakhomov', 'albert visser']   \n",
       "4        ['nicolas chavarria gomez', 'anand pillay']   \n",
       "5                                   ['anand pillay']   \n",
       "6                 ['taishi kurahashi', 'yuya okawa']   \n",
       "7  ['rebecca coulson', 'natasha dobrinen', 'rehan...   \n",
       "8                ['sohei iwata', 'taishi kurahashi']   \n",
       "9                          ['david fernandez-duque']   \n",
       "\n",
       "                              authorsRL  \n",
       "0               ['corey bacal switzer']  \n",
       "1  ['yatir halevi', \"ya'acov peterzil\"]  \n",
       "2                 ['miguel a. cardona']  \n",
       "3   ['fedor pakhomov', 'albert visser']  \n",
       "4                      ['anand pillay']  \n",
       "5                      ['anand pillay']  \n",
       "6                  ['taishi kurahashi']  \n",
       "7                  ['natasha dobrinen']  \n",
       "8                  ['taishi kurahashi']  \n",
       "9             ['david fernandez-duque']  "
      ]
     },
     "execution_count": 6,
     "metadata": {},
     "output_type": "execute_result"
    }
   ],
   "source": [
    "df.head(10)"
   ]
  },
  {
   "cell_type": "code",
   "execution_count": 6,
   "id": "3aa67ddf-eaa7-4c25-834c-1d904d438b0c",
   "metadata": {},
   "outputs": [],
   "source": [
    "df['authorsRL'] = df['authorsRL'].apply(ast.literal_eval)"
   ]
  },
  {
   "cell_type": "code",
   "execution_count": 6,
   "id": "d8a8577f-f5df-4ff6-8285-8690c35ca8ab",
   "metadata": {},
   "outputs": [],
   "source": [
    "#df[['quanquan gu' in x for x in df['authors']]]"
   ]
  },
  {
   "cell_type": "code",
   "execution_count": 7,
   "id": "dca5c793-2e71-4ec3-b088-901832664214",
   "metadata": {},
   "outputs": [],
   "source": [
    "ent_rec = Counter([x for y in df['authorsRL'] for x in y])"
   ]
  },
  {
   "cell_type": "code",
   "execution_count": 25,
   "id": "28c7b5dd-a164-41c5-89cc-b0b5424ab4f0",
   "metadata": {},
   "outputs": [],
   "source": [
    "#ent_rec"
   ]
  },
  {
   "cell_type": "code",
   "execution_count": 8,
   "id": "48a2f669-f993-45fc-8548-de125e1857f2",
   "metadata": {},
   "outputs": [
    {
     "data": {
      "text/plain": [
       "(array([112., 107.,  68.,  21.,  16.,  42.,  14.,  11.,  11.,   9.,   1.,\n",
       "          2.,   0.,   3.,   0.,   0.,   2.,   0.,   0.,   2.]),\n",
       " array([  6.  ,  13.55,  21.1 ,  28.65,  36.2 ,  43.75,  51.3 ,  58.85,\n",
       "         66.4 ,  73.95,  81.5 ,  89.05,  96.6 , 104.15, 111.7 , 119.25,\n",
       "        126.8 , 134.35, 141.9 , 149.45, 157.  ]),\n",
       " <BarContainer object of 20 artists>)"
      ]
     },
     "execution_count": 8,
     "metadata": {},
     "output_type": "execute_result"
    },
    {
     "data": {
      "image/png": "[encoded data removed]",
      "text/plain": [
       "<Figure size 640x480 with 1 Axes>"
      ]
     },
     "metadata": {},
     "output_type": "display_data"
    }
   ],
   "source": [
    "plt.hist(ent_rec.values(), bins = 20)"
   ]
  },
  {
   "cell_type": "code",
   "execution_count": 7,
   "id": "4f3ddbd6-816d-45d0-9f14-f0a282b84238",
   "metadata": {},
   "outputs": [],
   "source": [
    "abstract = df[\"abstract\"]"
   ]
  },
  {
   "cell_type": "code",
   "execution_count": 75,
   "id": "5818cc3b-ca34-4171-8054-4eb10ace1720",
   "metadata": {},
   "outputs": [],
   "source": [
    "title = df[\"title\"]"
   ]
  },
  {
   "cell_type": "code",
   "execution_count": 76,
   "id": "59674b3c-0918-4d86-b13a-cc54f688825d",
   "metadata": {},
   "outputs": [],
   "source": [
    "sentences = title + \" \" + abstract"
   ]
  },
  {
   "cell_type": "code",
   "execution_count": 77,
   "id": "77c53733-2e1b-4aa6-90c2-ef46f5114168",
   "metadata": {},
   "outputs": [
    {
     "data": {
      "text/plain": [
       "'on pp elimination and stability in a continuous setting we generalize pp elimination for modules, or more generally abelian structures, to a continuous logic environment where the abelian structure is equipped with a homomorphism to a compact (hausdorff) group. we conclude that the continuous logic theory of such a structure is stable.'"
      ]
     },
     "execution_count": 77,
     "metadata": {},
     "output_type": "execute_result"
    }
   ],
   "source": [
    "sentences[0]"
   ]
  },
  {
   "cell_type": "code",
   "execution_count": 37,
   "id": "400c13a6-9c90-4fa0-8e33-7edf7a6576c8",
   "metadata": {},
   "outputs": [
    {
     "data": {
      "text/plain": [
       "112"
      ]
     },
     "execution_count": 37,
     "metadata": {},
     "output_type": "execute_result"
    }
   ],
   "source": [
    "len(sentences.str.split()[0])"
   ]
  },
  {
   "cell_type": "code",
   "execution_count": 38,
   "id": "1faefdf3-8bc7-442a-a9f3-53b7b112e7cc",
   "metadata": {},
   "outputs": [
    {
     "data": {
      "text/plain": [
       "852"
      ]
     },
     "execution_count": 38,
     "metadata": {},
     "output_type": "execute_result"
    }
   ],
   "source": [
    "len(sentences[0]) # approx characters with spaces"
   ]
  },
  {
   "cell_type": "code",
   "execution_count": 22,
   "id": "ea973946-8acb-42a5-9dd6-e93056bba5f8",
   "metadata": {},
   "outputs": [],
   "source": [
    "word_count = []\n",
    "for x in sentences:\n",
    "    word_count.append(len(x))"
   ]
  },
  {
   "cell_type": "code",
   "execution_count": 24,
   "id": "6e912375-61d3-4456-bfe9-56ab1c799623",
   "metadata": {},
   "outputs": [],
   "source": [
    "#plt.hist(word_count) # By default, input text longer than 384 word pieces is truncated"
   ]
  },
  {
   "cell_type": "code",
   "execution_count": 27,
   "id": "18e9cd8d-1fc3-41e4-aeb2-86986640a4ff",
   "metadata": {},
   "outputs": [
    {
     "data": {
      "text/html": [
       "<div>\n",
       "<style scoped>\n",
       "    .dataframe tbody tr th:only-of-type {\n",
       "        vertical-align: middle;\n",
       "    }\n",
       "\n",
       "    .dataframe tbody tr th {\n",
       "        vertical-align: top;\n",
       "    }\n",
       "\n",
       "    .dataframe thead th {\n",
       "        text-align: right;\n",
       "    }\n",
       "</style>\n",
       "<table border=\"1\" class=\"dataframe\">\n",
       "  <thead>\n",
       "    <tr style=\"text-align: right;\">\n",
       "      <th></th>\n",
       "      <th>id</th>\n",
       "      <th>title</th>\n",
       "      <th>categories</th>\n",
       "      <th>abstract</th>\n",
       "      <th>doi</th>\n",
       "      <th>created</th>\n",
       "      <th>updated</th>\n",
       "      <th>authors</th>\n",
       "      <th>authorsRL</th>\n",
       "    </tr>\n",
       "  </thead>\n",
       "  <tbody>\n",
       "    <tr>\n",
       "      <th>0</th>\n",
       "      <td>1712.04755</td>\n",
       "      <td>exponential convergence of testing error for s...</td>\n",
       "      <td>cs.lg stat.ml</td>\n",
       "      <td>we consider binary classification problems wit...</td>\n",
       "      <td>NaN</td>\n",
       "      <td>2017-12-13</td>\n",
       "      <td>2018-11-20</td>\n",
       "      <td>['loucas pillaud-vivien', 'alessandro rudi', '...</td>\n",
       "      <td>[alessandro rudi, francis bach]</td>\n",
       "    </tr>\n",
       "    <tr>\n",
       "      <th>1</th>\n",
       "      <td>2006.00739</td>\n",
       "      <td>the importance of cognitive domains and the re...</td>\n",
       "      <td>econ.gn q-fin.ec</td>\n",
       "      <td>numerous studies have considered the important...</td>\n",
       "      <td>10.1016/j.labeco.2020.101849</td>\n",
       "      <td>2020-06-01</td>\n",
       "      <td>2020-06-05</td>\n",
       "      <td>['plamen nikolov', 'nusrat jimi']</td>\n",
       "      <td>[plamen nikolov]</td>\n",
       "    </tr>\n",
       "    <tr>\n",
       "      <th>2</th>\n",
       "      <td>1806.01660</td>\n",
       "      <td>towards understanding acceleration tradeoff be...</td>\n",
       "      <td>cs.lg stat.ml</td>\n",
       "      <td>asynchronous momentum stochastic gradient desc...</td>\n",
       "      <td>NaN</td>\n",
       "      <td>2018-06-04</td>\n",
       "      <td>2021-01-13</td>\n",
       "      <td>['tianyi liu', 'shiyang li', 'jianping shi', '...</td>\n",
       "      <td>[tuo zhao]</td>\n",
       "    </tr>\n",
       "    <tr>\n",
       "      <th>3</th>\n",
       "      <td>2106.12059</td>\n",
       "      <td>stochastic batch acquisition: a simple baselin...</td>\n",
       "      <td>cs.lg stat.ml</td>\n",
       "      <td>we examine a simple stochastic strategy for ad...</td>\n",
       "      <td>NaN</td>\n",
       "      <td>2021-06-22</td>\n",
       "      <td>2023-09-19</td>\n",
       "      <td>['andreas kirsch', 'sebastian farquhar', 'parm...</td>\n",
       "      <td>[yarin gal]</td>\n",
       "    </tr>\n",
       "    <tr>\n",
       "      <th>4</th>\n",
       "      <td>2010.01279</td>\n",
       "      <td>do wider neural networks really help adversari...</td>\n",
       "      <td>cs.lg cs.ai stat.ml</td>\n",
       "      <td>adversarial training is a powerful type of def...</td>\n",
       "      <td>NaN</td>\n",
       "      <td>2020-10-03</td>\n",
       "      <td>2021-08-14</td>\n",
       "      <td>['boxi wu', 'jinghui chen', 'deng cai', 'xiaof...</td>\n",
       "      <td>[quanquan gu]</td>\n",
       "    </tr>\n",
       "    <tr>\n",
       "      <th>5</th>\n",
       "      <td>2301.11674</td>\n",
       "      <td>optimally-weighted estimators of the maximum m...</td>\n",
       "      <td>stat.me stat.co stat.ml</td>\n",
       "      <td>likelihood-free inference methods typically ma...</td>\n",
       "      <td>NaN</td>\n",
       "      <td>2023-01-27</td>\n",
       "      <td>2023-05-10</td>\n",
       "      <td>['ayush bharti', 'masha naslidnyk', 'oscar key...</td>\n",
       "      <td>[samuel kaski]</td>\n",
       "    </tr>\n",
       "    <tr>\n",
       "      <th>6</th>\n",
       "      <td>2303.00406</td>\n",
       "      <td>graphene-quantum dot hybrid photodetectors fro...</td>\n",
       "      <td>cond-mat.mes-hall physics.app-ph</td>\n",
       "      <td>a 200 mm processing platform for the large-sca...</td>\n",
       "      <td>NaN</td>\n",
       "      <td>2023-03-01</td>\n",
       "      <td>NaN</td>\n",
       "      <td>['sha li', 'zhenxing wang', 'bianca robertz', ...</td>\n",
       "      <td>[max c. lemme]</td>\n",
       "    </tr>\n",
       "    <tr>\n",
       "      <th>7</th>\n",
       "      <td>1909.12247</td>\n",
       "      <td>minimal equivalence relations in hyperarithmet...</td>\n",
       "      <td>math.lo</td>\n",
       "      <td>a standard tool for classifying the complexity...</td>\n",
       "      <td>NaN</td>\n",
       "      <td>2019-09-26</td>\n",
       "      <td>NaN</td>\n",
       "      <td>['nikolay bazhenov', 'manat mustafa', 'luca sa...</td>\n",
       "      <td>[nikolay bazhenov, luca san mauro]</td>\n",
       "    </tr>\n",
       "    <tr>\n",
       "      <th>8</th>\n",
       "      <td>2205.15113</td>\n",
       "      <td>online agnostic multiclass boosting</td>\n",
       "      <td>cs.lg stat.ml</td>\n",
       "      <td>boosting is a fundamental approach in machine ...</td>\n",
       "      <td>NaN</td>\n",
       "      <td>2022-05-30</td>\n",
       "      <td>2022-10-17</td>\n",
       "      <td>['vinod raman', 'ambuj tewari']</td>\n",
       "      <td>[ambuj tewari]</td>\n",
       "    </tr>\n",
       "    <tr>\n",
       "      <th>9</th>\n",
       "      <td>2002.00291</td>\n",
       "      <td>oracle lower bounds for stochastic gradient sa...</td>\n",
       "      <td>stat.ml cs.lg math.st stat.th</td>\n",
       "      <td>we consider the problem of sampling from a str...</td>\n",
       "      <td>NaN</td>\n",
       "      <td>2020-02-01</td>\n",
       "      <td>2021-07-03</td>\n",
       "      <td>['niladri s. chatterji', 'peter l. bartlett', ...</td>\n",
       "      <td>[peter l. bartlett]</td>\n",
       "    </tr>\n",
       "  </tbody>\n",
       "</table>\n",
       "</div>"
      ],
      "text/plain": [
       "           id                                              title  \\\n",
       "0  1712.04755  exponential convergence of testing error for s...   \n",
       "1  2006.00739  the importance of cognitive domains and the re...   \n",
       "2  1806.01660  towards understanding acceleration tradeoff be...   \n",
       "3  2106.12059  stochastic batch acquisition: a simple baselin...   \n",
       "4  2010.01279  do wider neural networks really help adversari...   \n",
       "5  2301.11674  optimally-weighted estimators of the maximum m...   \n",
       "6  2303.00406  graphene-quantum dot hybrid photodetectors fro...   \n",
       "7  1909.12247  minimal equivalence relations in hyperarithmet...   \n",
       "8  2205.15113                online agnostic multiclass boosting   \n",
       "9  2002.00291  oracle lower bounds for stochastic gradient sa...   \n",
       "\n",
       "                         categories  \\\n",
       "0                     cs.lg stat.ml   \n",
       "1                  econ.gn q-fin.ec   \n",
       "2                     cs.lg stat.ml   \n",
       "3                     cs.lg stat.ml   \n",
       "4               cs.lg cs.ai stat.ml   \n",
       "5           stat.me stat.co stat.ml   \n",
       "6  cond-mat.mes-hall physics.app-ph   \n",
       "7                           math.lo   \n",
       "8                     cs.lg stat.ml   \n",
       "9     stat.ml cs.lg math.st stat.th   \n",
       "\n",
       "                                            abstract  \\\n",
       "0  we consider binary classification problems wit...   \n",
       "1  numerous studies have considered the important...   \n",
       "2  asynchronous momentum stochastic gradient desc...   \n",
       "3  we examine a simple stochastic strategy for ad...   \n",
       "4  adversarial training is a powerful type of def...   \n",
       "5  likelihood-free inference methods typically ma...   \n",
       "6  a 200 mm processing platform for the large-sca...   \n",
       "7  a standard tool for classifying the complexity...   \n",
       "8  boosting is a fundamental approach in machine ...   \n",
       "9  we consider the problem of sampling from a str...   \n",
       "\n",
       "                            doi     created     updated  \\\n",
       "0                           NaN  2017-12-13  2018-11-20   \n",
       "1  10.1016/j.labeco.2020.101849  2020-06-01  2020-06-05   \n",
       "2                           NaN  2018-06-04  2021-01-13   \n",
       "3                           NaN  2021-06-22  2023-09-19   \n",
       "4                           NaN  2020-10-03  2021-08-14   \n",
       "5                           NaN  2023-01-27  2023-05-10   \n",
       "6                           NaN  2023-03-01         NaN   \n",
       "7                           NaN  2019-09-26         NaN   \n",
       "8                           NaN  2022-05-30  2022-10-17   \n",
       "9                           NaN  2020-02-01  2021-07-03   \n",
       "\n",
       "                                             authors  \\\n",
       "0  ['loucas pillaud-vivien', 'alessandro rudi', '...   \n",
       "1                  ['plamen nikolov', 'nusrat jimi']   \n",
       "2  ['tianyi liu', 'shiyang li', 'jianping shi', '...   \n",
       "3  ['andreas kirsch', 'sebastian farquhar', 'parm...   \n",
       "4  ['boxi wu', 'jinghui chen', 'deng cai', 'xiaof...   \n",
       "5  ['ayush bharti', 'masha naslidnyk', 'oscar key...   \n",
       "6  ['sha li', 'zhenxing wang', 'bianca robertz', ...   \n",
       "7  ['nikolay bazhenov', 'manat mustafa', 'luca sa...   \n",
       "8                    ['vinod raman', 'ambuj tewari']   \n",
       "9  ['niladri s. chatterji', 'peter l. bartlett', ...   \n",
       "\n",
       "                            authorsRL  \n",
       "0     [alessandro rudi, francis bach]  \n",
       "1                    [plamen nikolov]  \n",
       "2                          [tuo zhao]  \n",
       "3                         [yarin gal]  \n",
       "4                       [quanquan gu]  \n",
       "5                      [samuel kaski]  \n",
       "6                      [max c. lemme]  \n",
       "7  [nikolay bazhenov, luca san mauro]  \n",
       "8                      [ambuj tewari]  \n",
       "9                 [peter l. bartlett]  "
      ]
     },
     "execution_count": 27,
     "metadata": {},
     "output_type": "execute_result"
    }
   ],
   "source": [
    "df_shuffled = df.sample(frac = 1, random_state = 0).reset_index(drop = True)\n",
    "df_shuffled.head(10)"
   ]
  },
  {
   "cell_type": "code",
   "execution_count": 28,
   "id": "3a22a77a-6a45-4c30-8236-afe995231473",
   "metadata": {},
   "outputs": [],
   "source": [
    "df_shuffled.to_csv('arXivScrape_shuffled.csv', index = False)"
   ]
  },
  {
   "cell_type": "code",
   "execution_count": 8,
   "id": "dcd096fa-505c-4895-a6c3-0c88c3f82262",
   "metadata": {},
   "outputs": [
    {
     "data": {
      "application/vnd.jupyter.widget-view+json": {
       "model_id": "8bcfa5ceb2e04d7788e68d3bf090845a",
       "version_major": 2,
       "version_minor": 0
      },
      "text/plain": [
       "Batches:   0%|          | 0/291 [00:00<?, ?it/s]"
      ]
     },
     "metadata": {},
     "output_type": "display_data"
    }
   ],
   "source": [
    "#sentences = df_shuffled[\"abstract\"]\n",
    "model = SentenceTransformer('sentence-transformers/all-mpnet-base-v2')\n",
    "embeddings = model.encode(abstract, show_progress_bar = True, convert_to_tensor = True, \n",
    "                          normalize_embeddings = True)\n",
    "#print(embeddings)"
   ]
  },
  {
   "cell_type": "code",
   "execution_count": 20,
   "id": "c409ba54-4067-4184-9243-57854f9ff032",
   "metadata": {},
   "outputs": [],
   "source": [
    "#df.head(11)"
   ]
  },
  {
   "cell_type": "code",
   "execution_count": 19,
   "id": "ac8524c3-326c-41c7-a854-d0046ba8941f",
   "metadata": {},
   "outputs": [
    {
     "data": {
      "text/plain": [
       "'we generalize pp elimination for modules, or more generally abelian structures, to a continuous logic environment where the abelian structure is equipped with a homomorphism to a compact (hausdorff) group. we conclude that the continuous logic theory of such a structure is stable.'"
      ]
     },
     "execution_count": 19,
     "metadata": {},
     "output_type": "execute_result"
    }
   ],
   "source": [
    "#sentences[0]"
   ]
  },
  {
   "cell_type": "code",
   "execution_count": 9,
   "id": "201745ea-4c18-4202-a4c2-60c54e5abf1f",
   "metadata": {},
   "outputs": [
    {
     "data": {
      "text/plain": [
       "torch.Size([9308, 768])"
      ]
     },
     "execution_count": 9,
     "metadata": {},
     "output_type": "execute_result"
    }
   ],
   "source": [
    "embeddings.shape"
   ]
  },
  {
   "cell_type": "code",
   "execution_count": 10,
   "id": "bdbfd202-c4bf-4e6b-a23a-0bd3ff7849e4",
   "metadata": {},
   "outputs": [
    {
     "data": {
      "text/plain": [
       "'cosine'"
      ]
     },
     "execution_count": 10,
     "metadata": {},
     "output_type": "execute_result"
    }
   ],
   "source": [
    "model.similarity_fn_name"
   ]
  },
  {
   "cell_type": "code",
   "execution_count": 11,
   "id": "e4e01fb0-f44c-403e-89ed-f8b8ebc72720",
   "metadata": {},
   "outputs": [],
   "source": [
    "cosine_data = model.similarity(embeddings, embeddings)"
   ]
  },
  {
   "cell_type": "code",
   "execution_count": 16,
   "id": "1ea4b063-d087-4c13-80de-23188038d101",
   "metadata": {},
   "outputs": [
    {
     "data": {
      "text/plain": [
       "tensor([[ 0.0000e+00,  4.5709e-01,  4.8528e-01,  5.0774e-01,  6.5547e-01],\n",
       "        [ 4.5709e-01, -1.1921e-07,  6.6598e-01,  6.0808e-01,  6.7825e-01],\n",
       "        [ 4.8528e-01,  6.6598e-01,  5.9605e-08,  4.9285e-01,  7.5638e-01],\n",
       "        [ 5.0774e-01,  6.0808e-01,  4.9285e-01, -2.3842e-07,  6.9339e-01],\n",
       "        [ 6.5547e-01,  6.7825e-01,  7.5638e-01,  6.9339e-01,  1.7881e-07]])"
      ]
     },
     "execution_count": 16,
     "metadata": {},
     "output_type": "execute_result"
    }
   ],
   "source": [
    "1 - cosine_data[0:5, 0:5]"
   ]
  },
  {
   "cell_type": "code",
   "execution_count": 12,
   "id": "456f727b-20c0-48ac-83f7-0b970fa789ad",
   "metadata": {},
   "outputs": [],
   "source": [
    "from scipy.spatial import distance_matrix"
   ]
  },
  {
   "cell_type": "code",
   "execution_count": 13,
   "id": "6a8de7f0-5333-4d55-be8d-dfcc819772e2",
   "metadata": {},
   "outputs": [],
   "source": [
    "dist_data = distance_matrix(embeddings, embeddings)"
   ]
  },
  {
   "cell_type": "code",
   "execution_count": 17,
   "id": "748e4514-ea3e-446f-9584-ba9515a16fcd",
   "metadata": {},
   "outputs": [
    {
     "data": {
      "text/plain": [
       "array([[0.        , 0.95612918, 0.98517069, 1.00770676, 1.14495995],\n",
       "       [0.95612918, 0.        , 1.15410201, 1.10279704, 1.16468895],\n",
       "       [0.98517069, 1.15410201, 0.        , 0.99282578, 1.22994388],\n",
       "       [1.00770676, 1.10279704, 0.99282578, 0.        , 1.17762014],\n",
       "       [1.14495995, 1.16468895, 1.22994388, 1.17762014, 0.        ]])"
      ]
     },
     "execution_count": 17,
     "metadata": {},
     "output_type": "execute_result"
    }
   ],
   "source": [
    "dist_data[0:5, 0:5]"
   ]
  },
  {
   "cell_type": "code",
   "execution_count": 14,
   "id": "fe9678a4-1831-47eb-a305-99167e73662d",
   "metadata": {},
   "outputs": [],
   "source": [
    "pd.DataFrame(dist_data).to_csv('arXivScrape_dist.csv', index = False, header = False)"
   ]
  },
  {
   "cell_type": "code",
   "execution_count": 15,
   "id": "cd6dae7e-4f04-4bfe-8db1-05d5576cecf8",
   "metadata": {},
   "outputs": [],
   "source": [
    "pd.DataFrame(cosine_data).to_csv('arXivScrape_cos.csv', index = False, header = False)"
   ]
  },
  {
   "cell_type": "code",
   "execution_count": 127,
   "id": "81da95ba-bd9f-4a68-a2d0-b80b19fd9fa5",
   "metadata": {},
   "outputs": [],
   "source": [
    "#import torch"
   ]
  },
  {
   "cell_type": "code",
   "execution_count": 130,
   "id": "ec5a54ed-3295-43e0-9681-26577d2eb489",
   "metadata": {},
   "outputs": [],
   "source": [
    "#dist_data = torch.cdist(embeddings, embeddings, p = 2)[0:5, 0:5]"
   ]
  },
  {
   "cell_type": "markdown",
   "id": "7abe10da-f8dd-447c-82f9-e7057b09cd77",
   "metadata": {},
   "source": [
    "# Original notebook below here"
   ]
  },
  {
   "cell_type": "code",
   "execution_count": null,
   "id": "fcc50928-96e8-4685-a9e1-a1433c18326a",
   "metadata": {},
   "outputs": [],
   "source": [
    "#pip install pyarrow"
   ]
  },
  {
   "cell_type": "code",
   "execution_count": null,
   "id": "08349a5b-2a41-4786-863e-608c20157adf",
   "metadata": {},
   "outputs": [],
   "source": [
    "#pip install vectorizers"
   ]
  },
  {
   "cell_type": "code",
   "execution_count": null,
   "id": "83fe643a-0441-4ec5-b190-8f7726ede89c",
   "metadata": {},
   "outputs": [],
   "source": [
    "import pyarrow.feather as feather\n",
    "import pyarrow.feather as feather\n",
    "import vectorizers\n",
    "from vectorizers.transformers import InformationWeightTransformer\n",
    "import umap\n",
    "import numpy as np\n",
    "import pandas as pd"
   ]
  },
  {
   "cell_type": "code",
   "execution_count": null,
   "id": "2652e077-3a60-40d9-b67e-77d2862fa80c",
   "metadata": {},
   "outputs": [],
   "source": [
    "# Import feather file as Pandas Dataframe\n",
    "arxiv_df = feather.read_feather('arxiv/all_arxiv_papers_df.feather')"
   ]
  },
  {
   "cell_type": "code",
   "execution_count": null,
   "id": "fd937949-321e-4fec-87df-23d4a7d81668",
   "metadata": {},
   "outputs": [],
   "source": [
    "# Concatenate the abstracts & titles together, which will be our 'documents'; then split into lists of words.\n",
    "arxiv_df[\"concat\"] = arxiv_df[\"title\"] + \" \" + arxiv_df[\"abstract\"]\n",
    "arxiv_df[\"split\"] =arxiv_df[\"concat\"].str.split()\n",
    "list_of_word_bags = arxiv_df[\"split\"].tolist()\n",
    "total = len(list_of_word_bags)\n",
    "print(\"Number of items:\", total) \n",
    "\n",
    "# Compute a time column which is the number of days since Jan 01, 2018.\n",
    "def date_to_T(date):\n",
    "    year = date.year\n",
    "    ## 2020 was a leap year\n",
    "    if year > 2020:\n",
    "        return date.timetuple().tm_yday + 365*(year-2018)+1\n",
    "    else:\n",
    "        return date.timetuple().tm_yday + 365*(year-2018)\n",
    "\n",
    "arxiv_df[\"date\"] = pd.to_datetime(arxiv_df[\"created\"])\n",
    "arxiv_df[\"created-days since Jan 01, 1018\"] = arxiv_df[\"date\"].apply(\n",
    "    lambda x: date_to_T(x)\n",
    ")"
   ]
  },
  {
   "cell_type": "code",
   "execution_count": null,
   "id": "dc0e451b-01d1-45ac-a0fb-ffb699d664d3",
   "metadata": {},
   "outputs": [],
   "source": [
    "arxiv_df"
   ]
  },
  {
   "cell_type": "code",
   "execution_count": null,
   "id": "7d8e6a5e-f287-47c2-8c61-c6a6d629205b",
   "metadata": {},
   "outputs": [],
   "source": [
    "# Vectorize the documents\n",
    "list_of_word_bags = arxiv_df[\"split\"].tolist()\n",
    "\n",
    "vectorizer = vectorizers.NgramVectorizer()\n",
    "count_vectors=vectorizer.fit_transform(list_of_word_bags)"
   ]
  },
  {
   "cell_type": "code",
   "execution_count": null,
   "id": "c06cf6ed-2fa7-49f5-9ca5-e5683ac578cc",
   "metadata": {},
   "outputs": [],
   "source": [
    "# Perform IWT\n",
    "IWT=InformationWeightTransformer()\n",
    "info_vectors=IWT.fit_transform(count_vectors)"
   ]
  },
  {
   "cell_type": "code",
   "execution_count": null,
   "id": "b6f65250-088d-4dc4-80ba-d7f99adb3abc",
   "metadata": {},
   "outputs": [],
   "source": [
    "# UMAP\n",
    "datamap = umap.UMAP(n_components = 2, metric=\"hellinger\", unique=True).fit_transform(info_vectors)\n",
    "datamap"
   ]
  },
  {
   "cell_type": "code",
   "execution_count": null,
   "id": "44e98c7c-def0-4626-9f70-b9f0f3dd7f6b",
   "metadata": {},
   "outputs": [],
   "source": [
    "arxiv_df[\"2d-vector\"] = list(datamap)"
   ]
  },
  {
   "cell_type": "code",
   "execution_count": null,
   "id": "e53d4371-ea93-45d1-8c42-502b963b1cb1",
   "metadata": {},
   "outputs": [],
   "source": [
    "arxiv_df.to_feather(\"all_arxiv_papers_preprocessed.feather\")"
   ]
  }
 ],
 "metadata": {
  "kernelspec": {
   "display_name": "Python 3 (ipykernel)",
   "language": "python",
   "name": "python3"
  },
  "language_info": {
   "codemirror_mode": {
    "name": "ipython",
    "version": 3
   },
   "file_extension": ".py",
   "mimetype": "text/x-python",
   "name": "python",
   "nbconvert_exporter": "python",
   "pygments_lexer": "ipython3",
   "version": "3.12.4"
  }
 },
 "nbformat": 4,
 "nbformat_minor": 5
}
