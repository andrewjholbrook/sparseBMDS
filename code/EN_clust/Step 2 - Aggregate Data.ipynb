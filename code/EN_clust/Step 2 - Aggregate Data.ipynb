{
 "cells": [
  {
   "cell_type": "markdown",
   "id": "b48eb0ce-5913-4fe2-bfa5-054183423952",
   "metadata": {},
   "source": [
    "# Goal\n",
    "\n",
    "Download data from arXiv. Note arXiv has an API with a nice guide: https://info.arxiv.org/help/api/index.html\n",
    "\n",
    "There exists a dataset for ML articles, but it contains neither author nor time fields, which makes it seem less-than-useful for our purposes: https://huggingface.co/datasets/CShorten/ML-ArXiv-Papers\n",
    "\n",
    "We'll choose a few sub-subjects from the big list https://github.com/Mahdisadjadi/arxivscraper/blob/master/categories.md, as well as a few date ranges.\n"
   ]
  },
  {
   "cell_type": "code",
   "execution_count": 1,
   "id": "a7c7a604-c287-414e-aa11-a35ab42e2f5e",
   "metadata": {},
   "outputs": [],
   "source": [
    "#pip install -U numpy"
   ]
  },
  {
   "cell_type": "code",
   "execution_count": 2,
   "id": "5ecc858b-4f26-4e03-b958-7baece0bb29c",
   "metadata": {},
   "outputs": [],
   "source": [
    "import arxivscraper\n",
    "import pandas as pd\n",
    "import time\n",
    "import pickle\n",
    "from unidecode import unidecode\n",
    "from datetime import date, timedelta\n",
    "import glob\n",
    "from collections import Counter\n",
    "import matplotlib.pyplot as plt\n",
    "import numpy"
   ]
  },
  {
   "cell_type": "code",
   "execution_count": 1,
   "id": "2d443443-b44f-448a-937a-e39ad5d7e606",
   "metadata": {},
   "outputs": [
    {
     "name": "stdout",
     "output_type": "stream",
     "text": [
      "Found existing installation: sentence-transformers 4.0.2\n",
      "Uninstalling sentence-transformers-4.0.2:\n",
      "  Successfully uninstalled sentence-transformers-4.0.2\n",
      "Note: you may need to restart the kernel to use updated packages.\n"
     ]
    }
   ],
   "source": [
    "#pip uninstall sentence_transformers --yes"
   ]
  },
  {
   "cell_type": "code",
   "execution_count": 1,
   "id": "ee3daf8a-300b-47af-a179-7c1957fc8f8d",
   "metadata": {},
   "outputs": [
    {
     "name": "stdout",
     "output_type": "stream",
     "text": [
      "\u001b[33mWARNING: Skipping SentenceTransformer as it is not installed.\u001b[0m\u001b[33m\n",
      "\u001b[0mNote: you may need to restart the kernel to use updated packages.\n"
     ]
    }
   ],
   "source": [
    "#pip uninstall SentenceTransformer"
   ]
  },
  {
   "cell_type": "code",
   "execution_count": 2,
   "id": "3516f824-e941-4ca3-b8bf-5b33cafdd1ea",
   "metadata": {},
   "outputs": [],
   "source": [
    "import os"
   ]
  },
  {
   "cell_type": "code",
   "execution_count": 3,
   "id": "38ddad69-5b68-4c77-a820-ee275998adca",
   "metadata": {},
   "outputs": [],
   "source": [
    "os.chdir('/Users/amisheth/sparseBMDS/code/EN_clust')"
   ]
  },
  {
   "cell_type": "code",
   "execution_count": 6,
   "id": "388497cb-3763-4e69-ba73-c14352fda538",
   "metadata": {},
   "outputs": [
    {
     "data": {
      "text/plain": [
       "(3876, 8)"
      ]
     },
     "execution_count": 6,
     "metadata": {},
     "output_type": "execute_result"
    }
   ],
   "source": [
    "subcat = 'EC'\n",
    "## aggregate the data (across months/years)\n",
    "fns = '*'+subcat+'_*.pkl'\n",
    "files = glob.glob(fns)\n",
    "df = pd.read_pickle(files[0])\n",
    "files = files[1:(len(files))]\n",
    "for file in files:\n",
    "    data = pd.read_pickle(file)\n",
    "    df = pd.concat([df, data])\n",
    "df = df.drop_duplicates(subset = ['id'])\n",
    "df = df[df['created'] >= '2017-12-01']\n",
    "df['authors'] = [ [unidecode(x) for x in y] for y in df['authors'] ]\n",
    "name = \"arXivScrape_\" + subcat + \".pkl\"\n",
    "df.to_pickle(name)\n",
    "df.shape"
   ]
  },
  {
   "cell_type": "code",
   "execution_count": 7,
   "id": "14f570a5-15ef-4df7-b809-8be3e074f5a9",
   "metadata": {},
   "outputs": [
    {
     "data": {
      "text/html": [
       "<div>\n",
       "<style scoped>\n",
       "    .dataframe tbody tr th:only-of-type {\n",
       "        vertical-align: middle;\n",
       "    }\n",
       "\n",
       "    .dataframe tbody tr th {\n",
       "        vertical-align: top;\n",
       "    }\n",
       "\n",
       "    .dataframe thead th {\n",
       "        text-align: right;\n",
       "    }\n",
       "</style>\n",
       "<table border=\"1\" class=\"dataframe\">\n",
       "  <thead>\n",
       "    <tr style=\"text-align: right;\">\n",
       "      <th></th>\n",
       "      <th>id</th>\n",
       "      <th>title</th>\n",
       "      <th>categories</th>\n",
       "      <th>abstract</th>\n",
       "      <th>doi</th>\n",
       "      <th>created</th>\n",
       "      <th>updated</th>\n",
       "      <th>authors</th>\n",
       "    </tr>\n",
       "  </thead>\n",
       "  <tbody>\n",
       "    <tr>\n",
       "      <th>0</th>\n",
       "      <td>1903.10965</td>\n",
       "      <td>improving the scalability of a prosumer cooper...</td>\n",
       "      <td>cs.ce cs.gt cs.lg econ.gn math.oc q-fin.ec</td>\n",
       "      <td>among the various market structures under peer...</td>\n",
       "      <td>10.1109/ptc.2019.8810558</td>\n",
       "      <td>2019-03-26</td>\n",
       "      <td>2020-07-31</td>\n",
       "      <td>[liyang han, thomas morstyn, constance crozier...</td>\n",
       "    </tr>\n",
       "    <tr>\n",
       "      <th>1</th>\n",
       "      <td>1908.09976</td>\n",
       "      <td>optimal life-cycle consumption and investment ...</td>\n",
       "      <td>q-fin.mf econ.th math.oc q-fin.pm</td>\n",
       "      <td>in this article we solve the problem of maximi...</td>\n",
       "      <td>10.1007/s11579-020-00276-9</td>\n",
       "      <td>2019-08-26</td>\n",
       "      <td></td>\n",
       "      <td>[andreas lichtenstern, pavel v. shevchenko, ru...</td>\n",
       "    </tr>\n",
       "    <tr>\n",
       "      <th>2</th>\n",
       "      <td>2003.06987</td>\n",
       "      <td>degrees of displacement: the impact of househo...</td>\n",
       "      <td>econ.gn cs.sy eess.sy physics.soc-ph q-fin.ec</td>\n",
       "      <td>reductions in the cost of pv and batteries enc...</td>\n",
       "      <td>10.1016/j.apenergy.2020.115466</td>\n",
       "      <td>2020-03-15</td>\n",
       "      <td></td>\n",
       "      <td>[kelvin say, wolf-peter schill, michele john]</td>\n",
       "    </tr>\n",
       "    <tr>\n",
       "      <th>3</th>\n",
       "      <td>2007.15704</td>\n",
       "      <td>job market effects of covid-19 on urban ukrain...</td>\n",
       "      <td>econ.gn q-fin.ec</td>\n",
       "      <td>the employment status of billions of people ha...</td>\n",
       "      <td></td>\n",
       "      <td>2020-07-30</td>\n",
       "      <td></td>\n",
       "      <td>[tymofii brik, maksym obrizan]</td>\n",
       "    </tr>\n",
       "    <tr>\n",
       "      <th>4</th>\n",
       "      <td>2007.16096</td>\n",
       "      <td>on single point forecasts for fat-tailed varia...</td>\n",
       "      <td>physics.soc-ph econ.gn q-fin.ec stat.ap stat.me</td>\n",
       "      <td>we discuss common errors and fallacies when us...</td>\n",
       "      <td></td>\n",
       "      <td>2020-07-31</td>\n",
       "      <td></td>\n",
       "      <td>[nassim nicholas taleb, yaneer bar-yam, pasqua...</td>\n",
       "    </tr>\n",
       "    <tr>\n",
       "      <th>...</th>\n",
       "      <td>...</td>\n",
       "      <td>...</td>\n",
       "      <td>...</td>\n",
       "      <td>...</td>\n",
       "      <td>...</td>\n",
       "      <td>...</td>\n",
       "      <td>...</td>\n",
       "      <td>...</td>\n",
       "    </tr>\n",
       "    <tr>\n",
       "      <th>5</th>\n",
       "      <td>2203.14904</td>\n",
       "      <td>why do banks find business process compliance ...</td>\n",
       "      <td>econ.gn q-fin.ec</td>\n",
       "      <td>banks play an intrinsic role in any modern eco...</td>\n",
       "      <td></td>\n",
       "      <td>2022-03-24</td>\n",
       "      <td></td>\n",
       "      <td>[nigel adams, adriano augusto, michael davern,...</td>\n",
       "    </tr>\n",
       "    <tr>\n",
       "      <th>0</th>\n",
       "      <td>2004.01624</td>\n",
       "      <td>how to build a cross-impact model from first p...</td>\n",
       "      <td>q-fin.tr cond-mat.stat-mech</td>\n",
       "      <td>trading a financial instrument pushes its pric...</td>\n",
       "      <td></td>\n",
       "      <td>2020-04-03</td>\n",
       "      <td>2022-03-29</td>\n",
       "      <td>[mehdi tomas, iacopo mastromatteo, michael ben...</td>\n",
       "    </tr>\n",
       "    <tr>\n",
       "      <th>1</th>\n",
       "      <td>2203.15716</td>\n",
       "      <td>application of quantum computers in foreign ex...</td>\n",
       "      <td>econ.gn q-fin.cp q-fin.ec quant-ph</td>\n",
       "      <td>the main purpose of this article is to evaluat...</td>\n",
       "      <td></td>\n",
       "      <td>2022-03-29</td>\n",
       "      <td></td>\n",
       "      <td>[martin vesely]</td>\n",
       "    </tr>\n",
       "    <tr>\n",
       "      <th>0</th>\n",
       "      <td>2203.16316</td>\n",
       "      <td>some new views on product space and related di...</td>\n",
       "      <td>econ.gn q-fin.ec</td>\n",
       "      <td>we aim to contribute to the literature on prod...</td>\n",
       "      <td></td>\n",
       "      <td>2022-03-30</td>\n",
       "      <td></td>\n",
       "      <td>[onder nomaler, bart verspagen]</td>\n",
       "    </tr>\n",
       "    <tr>\n",
       "      <th>1</th>\n",
       "      <td>2203.16516</td>\n",
       "      <td>designing a transactive electric vehicle agent...</td>\n",
       "      <td>eess.sy cs.sy econ.gn q-fin.ec</td>\n",
       "      <td>the proliferation of electric vehicles (evs) a...</td>\n",
       "      <td></td>\n",
       "      <td>2022-03-30</td>\n",
       "      <td></td>\n",
       "      <td>[ankit singhal, sarmad hanif, bishnu bhattarai...</td>\n",
       "    </tr>\n",
       "  </tbody>\n",
       "</table>\n",
       "<p>3876 rows × 8 columns</p>\n",
       "</div>"
      ],
      "text/plain": [
       "            id                                              title  \\\n",
       "0   1903.10965  improving the scalability of a prosumer cooper...   \n",
       "1   1908.09976  optimal life-cycle consumption and investment ...   \n",
       "2   2003.06987  degrees of displacement: the impact of househo...   \n",
       "3   2007.15704  job market effects of covid-19 on urban ukrain...   \n",
       "4   2007.16096  on single point forecasts for fat-tailed varia...   \n",
       "..         ...                                                ...   \n",
       "5   2203.14904  why do banks find business process compliance ...   \n",
       "0   2004.01624  how to build a cross-impact model from first p...   \n",
       "1   2203.15716  application of quantum computers in foreign ex...   \n",
       "0   2203.16316  some new views on product space and related di...   \n",
       "1   2203.16516  designing a transactive electric vehicle agent...   \n",
       "\n",
       "                                         categories  \\\n",
       "0        cs.ce cs.gt cs.lg econ.gn math.oc q-fin.ec   \n",
       "1                 q-fin.mf econ.th math.oc q-fin.pm   \n",
       "2     econ.gn cs.sy eess.sy physics.soc-ph q-fin.ec   \n",
       "3                                  econ.gn q-fin.ec   \n",
       "4   physics.soc-ph econ.gn q-fin.ec stat.ap stat.me   \n",
       "..                                              ...   \n",
       "5                                  econ.gn q-fin.ec   \n",
       "0                       q-fin.tr cond-mat.stat-mech   \n",
       "1                econ.gn q-fin.cp q-fin.ec quant-ph   \n",
       "0                                  econ.gn q-fin.ec   \n",
       "1                    eess.sy cs.sy econ.gn q-fin.ec   \n",
       "\n",
       "                                             abstract  \\\n",
       "0   among the various market structures under peer...   \n",
       "1   in this article we solve the problem of maximi...   \n",
       "2   reductions in the cost of pv and batteries enc...   \n",
       "3   the employment status of billions of people ha...   \n",
       "4   we discuss common errors and fallacies when us...   \n",
       "..                                                ...   \n",
       "5   banks play an intrinsic role in any modern eco...   \n",
       "0   trading a financial instrument pushes its pric...   \n",
       "1   the main purpose of this article is to evaluat...   \n",
       "0   we aim to contribute to the literature on prod...   \n",
       "1   the proliferation of electric vehicles (evs) a...   \n",
       "\n",
       "                               doi     created     updated  \\\n",
       "0         10.1109/ptc.2019.8810558  2019-03-26  2020-07-31   \n",
       "1       10.1007/s11579-020-00276-9  2019-08-26               \n",
       "2   10.1016/j.apenergy.2020.115466  2020-03-15               \n",
       "3                                   2020-07-30               \n",
       "4                                   2020-07-31               \n",
       "..                             ...         ...         ...   \n",
       "5                                   2022-03-24               \n",
       "0                                   2020-04-03  2022-03-29   \n",
       "1                                   2022-03-29               \n",
       "0                                   2022-03-30               \n",
       "1                                   2022-03-30               \n",
       "\n",
       "                                              authors  \n",
       "0   [liyang han, thomas morstyn, constance crozier...  \n",
       "1   [andreas lichtenstern, pavel v. shevchenko, ru...  \n",
       "2       [kelvin say, wolf-peter schill, michele john]  \n",
       "3                      [tymofii brik, maksym obrizan]  \n",
       "4   [nassim nicholas taleb, yaneer bar-yam, pasqua...  \n",
       "..                                                ...  \n",
       "5   [nigel adams, adriano augusto, michael davern,...  \n",
       "0   [mehdi tomas, iacopo mastromatteo, michael ben...  \n",
       "1                                     [martin vesely]  \n",
       "0                     [onder nomaler, bart verspagen]  \n",
       "1   [ankit singhal, sarmad hanif, bishnu bhattarai...  \n",
       "\n",
       "[3876 rows x 8 columns]"
      ]
     },
     "execution_count": 7,
     "metadata": {},
     "output_type": "execute_result"
    }
   ],
   "source": [
    "df"
   ]
  },
  {
   "cell_type": "code",
   "execution_count": 8,
   "id": "c4893062",
   "metadata": {},
   "outputs": [],
   "source": [
    "#df[['jason parker' in x for x in df['authors']]]"
   ]
  },
  {
   "cell_type": "code",
   "execution_count": 9,
   "id": "09ecbd37",
   "metadata": {},
   "outputs": [
    {
     "data": {
      "image/png": "[encoded data removed]",
      "text/plain": [
       "<Figure size 640x480 with 1 Axes>"
      ]
     },
     "metadata": {},
     "output_type": "display_data"
    }
   ],
   "source": [
    "df['count'] = 1\n",
    "plt.plot(df.groupby(by = 'created').sum(['count']));"
   ]
  },
  {
   "cell_type": "code",
   "execution_count": 10,
   "id": "5da4bc83",
   "metadata": {},
   "outputs": [
    {
     "data": {
      "text/plain": [
       "[(2, 1099),\n",
       " (1, 976),\n",
       " (3, 891),\n",
       " (4, 473),\n",
       " (5, 205),\n",
       " (6, 94),\n",
       " (7, 50),\n",
       " (8, 31),\n",
       " (10, 14),\n",
       " (9, 13)]"
      ]
     },
     "execution_count": 10,
     "metadata": {},
     "output_type": "execute_result"
    }
   ],
   "source": [
    "Counter([len(x) for x in df['authors']]).most_common(10)"
   ]
  },
  {
   "cell_type": "code",
   "execution_count": 12,
   "id": "a8dc4cb0",
   "metadata": {},
   "outputs": [],
   "source": [
    "#Counter([x for y in df['authors'] for x in y]).most_common(100)"
   ]
  },
  {
   "cell_type": "markdown",
   "id": "55b2bd3a-5a94-411e-b7f8-414313eaf7bf",
   "metadata": {},
   "source": [
    "#### Combine dataset across subjects together"
   ]
  },
  {
   "cell_type": "code",
   "execution_count": 3,
   "id": "71f3a3e1-971e-44d6-b165-292a82799cb4",
   "metadata": {},
   "outputs": [],
   "source": [
    "df_lo = pd.read_pickle('arXivScrape_lo.pkl')\n",
    "df_phys = pd.read_pickle('arXivScrape_app-ph.pkl')\n",
    "df_stat = pd.read_pickle('arXivScrape_ML.pkl')\n",
    "df_qEC = pd.read_pickle('arXivScrape_EC.pkl')"
   ]
  },
  {
   "cell_type": "code",
   "execution_count": 4,
   "id": "faff1ebd-2313-4974-a87b-a2c759bd99a6",
   "metadata": {},
   "outputs": [],
   "source": [
    "# selecting authors with the most articles\n",
    "top_lo = Counter([x for y in df_lo['authors'] for x in y]).most_common(100)\n",
    "topauth_lo = []\n",
    "for x in range(len(top_lo)):\n",
    "    topauth_lo.append(top_lo[x][0])"
   ]
  },
  {
   "cell_type": "code",
   "execution_count": 5,
   "id": "d101ab48-0ae8-4186-a39b-cdabccea1318",
   "metadata": {},
   "outputs": [],
   "source": [
    "# selecting authors with the most articles\n",
    "top_phys = Counter([x for y in df_phys['authors'] for x in y]).most_common(100)\n",
    "topauth_phys = []\n",
    "for x in range(len(top_phys)):\n",
    "    topauth_phys.append(top_phys[x][0])"
   ]
  },
  {
   "cell_type": "code",
   "execution_count": 6,
   "id": "4b47056e-908f-41f1-b49a-5acc0d29f909",
   "metadata": {},
   "outputs": [],
   "source": [
    "# selecting authors with the most articles\n",
    "top_stat = Counter([x for y in df_stat['authors'] for x in y]).most_common(100)\n",
    "topauth_stat = []\n",
    "for x in range(len(top_stat)):\n",
    "    topauth_stat.append(top_stat[x][0])"
   ]
  },
  {
   "cell_type": "code",
   "execution_count": 7,
   "id": "0502c355-d9c2-4c7a-8e21-8fa8e62ce195",
   "metadata": {},
   "outputs": [],
   "source": [
    "# selecting authors with the most articles\n",
    "top_qEC = Counter([x for y in df_qEC['authors'] for x in y]).most_common(100)\n",
    "topauth_qEC = []\n",
    "for x in range(len(top_qEC)):\n",
    "    topauth_qEC.append(top_qEC[x][0])"
   ]
  },
  {
   "cell_type": "code",
   "execution_count": 71,
   "id": "86e62d18-e8a6-4ef3-99a0-15efa07a90dd",
   "metadata": {},
   "outputs": [],
   "source": [
    "#topauth_lo"
   ]
  },
  {
   "cell_type": "code",
   "execution_count": 8,
   "id": "2d1f2e0c-a24d-4446-b8ff-b7ad23cece28",
   "metadata": {},
   "outputs": [],
   "source": [
    "# dataset only containing top authors\n",
    "filtered_lo = df_lo[df_lo['authors'].apply(lambda author_list: bool(set(author_list) & set(topauth_lo)))]\n",
    "filtered_phys = df_phys[df_phys['authors'].apply(lambda author_list: bool(set(author_list) & set(topauth_phys)))]\n",
    "filtered_stat = df_stat[df_stat['authors'].apply(lambda author_list: bool(set(author_list) & set(topauth_stat)))]\n",
    "filtered_qEC = df_qEC[df_qEC['authors'].apply(lambda author_list: bool(set(author_list) & set(topauth_qEC)))]"
   ]
  },
  {
   "cell_type": "code",
   "execution_count": 9,
   "id": "15f91a19-e745-480c-aa46-288608942445",
   "metadata": {},
   "outputs": [
    {
     "name": "stdout",
     "output_type": "stream",
     "text": [
      "(1475, 8) (1838, 8) (5361, 8) (698, 8)\n"
     ]
    }
   ],
   "source": [
    "print(filtered_lo.shape, filtered_phys.shape, filtered_stat.shape, filtered_qEC.shape)"
   ]
  },
  {
   "cell_type": "code",
   "execution_count": 10,
   "id": "588cf4fe-feea-4948-9134-c1b91ff2ea51",
   "metadata": {},
   "outputs": [
    {
     "data": {
      "text/plain": [
       "(9372, 8)"
      ]
     },
     "execution_count": 10,
     "metadata": {},
     "output_type": "execute_result"
    }
   ],
   "source": [
    "df = pd.concat([filtered_lo, filtered_phys, filtered_stat, filtered_qEC])\n",
    "df = df.drop_duplicates(subset = ['id'])\n",
    "df['authors'] = [ [unidecode(x) for x in y] for y in df['authors'] ]\n",
    "df.shape"
   ]
  },
  {
   "cell_type": "code",
   "execution_count": 14,
   "id": "f1b4c1ac-f023-4f18-9137-d68ec0531bed",
   "metadata": {},
   "outputs": [],
   "source": [
    "#top_lo"
   ]
  },
  {
   "cell_type": "code",
   "execution_count": 11,
   "id": "31224076-ebca-4ab5-a8d8-be01fa13d120",
   "metadata": {},
   "outputs": [],
   "source": [
    "unique = Counter([x for y in df['authors'] for x in y])"
   ]
  },
  {
   "cell_type": "code",
   "execution_count": 17,
   "id": "58a9654f-2339-4b68-bb34-653e51776845",
   "metadata": {},
   "outputs": [],
   "source": [
    "auth_xtra = []\n",
    "for name, count in unique.items():\n",
    "    if count > 20:\n",
    "        auth_xtra.append(name)\n",
    "        #print(count)"
   ]
  },
  {
   "cell_type": "code",
   "execution_count": 18,
   "id": "a8fb5c7a-50f5-48ee-b2de-94c9aa4c1d87",
   "metadata": {},
   "outputs": [
    {
     "data": {
      "text/plain": [
       "53"
      ]
     },
     "execution_count": 18,
     "metadata": {},
     "output_type": "execute_result"
    }
   ],
   "source": [
    "len(auth_xtra)"
   ]
  },
  {
   "cell_type": "code",
   "execution_count": 12,
   "id": "4719b9f4-303b-4ed6-8401-a9e5f9e8b8f5",
   "metadata": {},
   "outputs": [
    {
     "data": {
      "text/plain": [
       "10639"
      ]
     },
     "execution_count": 12,
     "metadata": {},
     "output_type": "execute_result"
    }
   ],
   "source": [
    "sum(1 for count in unique.values() if count == 1)"
   ]
  },
  {
   "cell_type": "code",
   "execution_count": 15,
   "id": "e229b0b3-0df2-484b-bfc9-be09512ea2fa",
   "metadata": {},
   "outputs": [],
   "source": [
    "common_name = topauth_lo.copy()"
   ]
  },
  {
   "cell_type": "code",
   "execution_count": 18,
   "id": "90e23f64-7096-4f8a-8213-bb9f7a21f2e2",
   "metadata": {},
   "outputs": [],
   "source": [
    "common_name.extend(topauth_qEC)\n",
    "#len(common_name)"
   ]
  },
  {
   "cell_type": "code",
   "execution_count": 24,
   "id": "7a8d8044-c0a0-45af-9ec4-7ad34c7362e5",
   "metadata": {},
   "outputs": [],
   "source": [
    "clust_keep = (set(common_name) | set(auth_xtra))"
   ]
  },
  {
   "cell_type": "code",
   "execution_count": 26,
   "id": "729d1b7a-5943-4925-bd1b-a78016f95e95",
   "metadata": {},
   "outputs": [],
   "source": [
    "#clust_keep.remove('saharon shelah')"
   ]
  },
  {
   "cell_type": "code",
   "execution_count": 20,
   "id": "b73e9fb8-ffb5-4a65-baee-708f2acb055d",
   "metadata": {},
   "outputs": [],
   "source": [
    "#common_name.remove('saharon shelah')"
   ]
  },
  {
   "cell_type": "code",
   "execution_count": 27,
   "id": "0946fc8d-8f0b-4691-a620-e6504c44a3d7",
   "metadata": {},
   "outputs": [
    {
     "data": {
      "text/plain": [
       "57"
      ]
     },
     "execution_count": 27,
     "metadata": {},
     "output_type": "execute_result"
    }
   ],
   "source": [
    "len(clust_keep)"
   ]
  },
  {
   "cell_type": "code",
   "execution_count": 21,
   "id": "ae245518-b01f-4270-8f0a-f9b05db2744e",
   "metadata": {},
   "outputs": [
    {
     "data": {
      "text/plain": [
       "(9308, 8)"
      ]
     },
     "execution_count": 21,
     "metadata": {},
     "output_type": "execute_result"
    }
   ],
   "source": [
    "df_filt = df[df['authors'].apply(lambda author_list: bool(set(author_list) & set(common_name)))]\n",
    "df_filt.shape"
   ]
  },
  {
   "cell_type": "code",
   "execution_count": 22,
   "id": "93a6eb5e-6db4-4b16-a5fe-54f0c4df6f0b",
   "metadata": {},
   "outputs": [
    {
     "data": {
      "text/plain": [
       "10625"
      ]
     },
     "execution_count": 22,
     "metadata": {},
     "output_type": "execute_result"
    }
   ],
   "source": [
    "unique2 = Counter([x for y in df_filt['authors'] for x in y])\n",
    "sum(1 for count in unique2.values() if count == 1)"
   ]
  },
  {
   "cell_type": "code",
   "execution_count": 82,
   "id": "2a91aaa0-8260-4be5-9f6d-dfaa1da21b83",
   "metadata": {},
   "outputs": [],
   "source": [
    "author_tot = []\n",
    "for y in df_filt['authors']:\n",
    "    author_row = []\n",
    "    for x in y:\n",
    "        if x in common_name:\n",
    "            author_row.append(x)\n",
    "    author_tot.append(author_row)"
   ]
  },
  {
   "cell_type": "code",
   "execution_count": 57,
   "id": "62027936-39d3-4571-87df-f7e3f5e651c4",
   "metadata": {},
   "outputs": [],
   "source": [
    "author_tot = []\n",
    "for y in filtered_lo['authors']:\n",
    "    author_row = []\n",
    "    for x in y:\n",
    "        if x in topauth_lo:\n",
    "            author_row.append(x)\n",
    "    author_tot.append(author_row)"
   ]
  },
  {
   "cell_type": "code",
   "execution_count": 21,
   "id": "87ffa8ec-ca2a-46eb-b520-bd9410563d11",
   "metadata": {},
   "outputs": [],
   "source": [
    "#author_tot"
   ]
  },
  {
   "cell_type": "code",
   "execution_count": 58,
   "id": "278433ae-940c-4b81-b6ef-46af7c8ca0e6",
   "metadata": {},
   "outputs": [
    {
     "data": {
      "text/plain": [
       "(235, 8)"
      ]
     },
     "execution_count": 58,
     "metadata": {},
     "output_type": "execute_result"
    }
   ],
   "source": [
    "filtered_lo.shape"
   ]
  },
  {
   "cell_type": "code",
   "execution_count": 83,
   "id": "a8951a5a-8f24-411f-b77a-f196dcdf392d",
   "metadata": {},
   "outputs": [
    {
     "data": {
      "text/plain": [
       "[['anand pillay'],\n",
       " ['anand pillay'],\n",
       " ['taishi kurahashi'],\n",
       " ['taishi kurahashi'],\n",
       " ['isaac goldbring'],\n",
       " ['assaf rinot'],\n",
       " ['sam sanders'],\n",
       " ['anand pillay'],\n",
       " ['anton freund'],\n",
       " ['ivan chajda', 'helmut langer']]"
      ]
     },
     "execution_count": 83,
     "metadata": {},
     "output_type": "execute_result"
    }
   ],
   "source": [
    "author_tot[0:10]"
   ]
  },
  {
   "cell_type": "code",
   "execution_count": 85,
   "id": "962c4641-33f4-4866-b06c-2d0512339f22",
   "metadata": {},
   "outputs": [],
   "source": [
    "df_final = df_filt.copy()"
   ]
  },
  {
   "cell_type": "code",
   "execution_count": 86,
   "id": "9ddbeaaa-471d-4445-a01c-446e6cfe85e1",
   "metadata": {},
   "outputs": [],
   "source": [
    "df_final['authorsRL'] = author_tot"
   ]
  },
  {
   "cell_type": "code",
   "execution_count": 29,
   "id": "1cf8a96a-dd73-4a22-86f5-5e05669c94ac",
   "metadata": {},
   "outputs": [],
   "source": [
    "#df_final"
   ]
  },
  {
   "cell_type": "code",
   "execution_count": 87,
   "id": "fe619fb2-c624-4afe-b257-367a6290546f",
   "metadata": {},
   "outputs": [
    {
     "data": {
      "text/plain": [
       "0"
      ]
     },
     "execution_count": 87,
     "metadata": {},
     "output_type": "execute_result"
    }
   ],
   "source": [
    "unique3 = Counter([x for y in df_final['authorsRL'] for x in y])\n",
    "sum(1 for count in unique3.values() if count == 1)"
   ]
  },
  {
   "cell_type": "code",
   "execution_count": 88,
   "id": "469496e7-9731-489a-b3a1-44ff62f0a94a",
   "metadata": {},
   "outputs": [
    {
     "data": {
      "text/plain": [
       "39"
      ]
     },
     "execution_count": 88,
     "metadata": {},
     "output_type": "execute_result"
    }
   ],
   "source": [
    "len(unique3.keys())"
   ]
  },
  {
   "cell_type": "code",
   "execution_count": 30,
   "id": "38689334-e26b-4716-b030-00bc28286723",
   "metadata": {},
   "outputs": [],
   "source": [
    "#unique3"
   ]
  },
  {
   "cell_type": "code",
   "execution_count": 89,
   "id": "6972bd9a-36ed-4c2f-8fe8-f86cb26db327",
   "metadata": {},
   "outputs": [],
   "source": [
    "df_final.to_pickle(\"arXivScrape_mini.pkl\")\n",
    "df_final.to_csv('arXivScrape_mini.csv', index = False)"
   ]
  }
 ],
 "metadata": {
  "kernelspec": {
   "display_name": "Python 3 (ipykernel)",
   "language": "python",
   "name": "python3"
  },
  "language_info": {
   "codemirror_mode": {
    "name": "ipython",
    "version": 3
   },
   "file_extension": ".py",
   "mimetype": "text/x-python",
   "name": "python",
   "nbconvert_exporter": "python",
   "pygments_lexer": "ipython3",
   "version": "3.12.4"
  }
 },
 "nbformat": 4,
 "nbformat_minor": 5
}
